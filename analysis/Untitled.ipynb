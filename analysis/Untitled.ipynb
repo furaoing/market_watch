{
 "cells": [
  {
   "cell_type": "code",
   "execution_count": 8,
   "metadata": {
    "collapsed": false
   },
   "outputs": [
    {
     "name": "stdout",
     "output_type": "stream",
     "text": [
      "[(20190506, {'short_volume': 2018619, 'total_volume': 3902633}), (20190507, {'short_volume': 4612223, 'total_volume': 7831367}), (20190508, {'short_volume': 3628560, 'total_volume': 6208082}), (20190509, {'short_volume': 1651115, 'total_volume': 2839073}), (20190510, {'short_volume': 1390935, 'total_volume': 2456698}), (20190513, {'short_volume': 1374538, 'total_volume': 2503606}), (20190514, {'short_volume': 2219510, 'total_volume': 3924572}), (20190515, {'short_volume': 5356686, 'total_volume': 9262922}), (20190516, {'short_volume': 3530065, 'total_volume': 6125523}), (20190517, {'short_volume': 2756154, 'total_volume': 4779717}), (20190520, {'short_volume': 1520600, 'total_volume': 2781867}), (20190521, {'short_volume': 2651599, 'total_volume': 5030919}), (20190522, {'short_volume': 1156481, 'total_volume': 2126549}), (20190523, {'short_volume': 1224920, 'total_volume': 2304552}), (20190524, {'short_volume': 898543, 'total_volume': 1605701}), (20190528, {'short_volume': 2012489, 'total_volume': 3594414}), (20190529, {'short_volume': 2480939, 'total_volume': 4122326}), (20190530, {'short_volume': 3647639, 'total_volume': 6811173}), (20190531, {'short_volume': 2441908, 'total_volume': 4390942}), (20190603, {'short_volume': 2358369, 'total_volume': 4475991}), (20190604, {'short_volume': 1559592, 'total_volume': 3053150}), (20190605, {'short_volume': 1194531, 'total_volume': 2306143}), (20190606, {'short_volume': 1132135, 'total_volume': 2057325}), (20190607, {'short_volume': 6145277, 'total_volume': 11360857})]\n"
     ]
    },
    {
     "data": {
      "text/plain": [
       "[<matplotlib.lines.Line2D at 0x1b26e6a59e8>]"
      ]
     },
     "execution_count": 8,
     "metadata": {},
     "output_type": "execute_result"
    },
    {
     "data": {
      "image/png": "[encoded data removed]",
      "text/plain": [
       "<matplotlib.figure.Figure at 0x1b26d2bbfd0>"
      ]
     },
     "metadata": {},
     "output_type": "display_data"
    }
   ],
   "source": [
    "import json\n",
    "import matplotlib.pyplot as plt\n",
    "\n",
    "\n",
    "%matplotlib inline\n",
    "with open(\"bynd_short_record.json\", \"r\") as f:\n",
    "    data = json.loads(f.read())\n",
    "\n",
    "\n",
    "new_data = {}\n",
    "for x in data:\n",
    "    date = int(x[\"date\"])\n",
    "    short_volume = x[\"short_volume\"]\n",
    "    total_volume = x[\"total_volume\"]\n",
    "    if date not in new_data.keys():\n",
    "        new_data[date] = {\"short_volume\": short_volume, \"total_volume\": total_volume}\n",
    "    else:\n",
    "        new_data[date][\"short_volume\"] += short_volume\n",
    "        new_data[date][\"total_volume\"] += total_volume\n",
    "\n",
    "\n",
    "new_data_list = list(new_data.items())\n",
    "new_data_list.sort(key=lambda x: x[0])\n",
    "\n",
    "print(new_data_list)\n",
    "\n",
    "short_rate_daily = [[x[0], x[1][\"short_volume\"]/x[1][\"total_volume\"]] for x in new_data_list]\n",
    "short_volume_daily = [x[1][\"short_volume\"] for x in new_data_list]\n",
    "date = []\n",
    "ratio = []\n",
    "for x in short_rate_daily:\n",
    "    date.append(x[0])\n",
    "    ratio.append(x[1])\n",
    "\n",
    "plt.plot(short_volume_daily)"
   ]
  },
  {
   "cell_type": "code",
   "execution_count": 9,
   "metadata": {
    "collapsed": false
   },
   "outputs": [
    {
     "data": {
      "text/plain": [
       "[0.5172454084204177,\n",
       " 0.5889422625705065,\n",
       " 0.5844897022945251,\n",
       " 0.5815683499508466,\n",
       " 0.5661807027155963,\n",
       " 0.549023288808223,\n",
       " 0.5655419240620378,\n",
       " 0.5782933290380724,\n",
       " 0.5762879349240873,\n",
       " 0.5766353949407464,\n",
       " 0.5466113225398627,\n",
       " 0.5270605628911934,\n",
       " 0.5438299329100811,\n",
       " 0.5315219617522191,\n",
       " 0.5595954664037701,\n",
       " 0.5598934902879857,\n",
       " 0.6018298892421414,\n",
       " 0.5355375645281657,\n",
       " 0.5561239478909081,\n",
       " 0.5268931505894449,\n",
       " 0.5108140772644646,\n",
       " 0.5179778530646192,\n",
       " 0.5502946787697617,\n",
       " 0.5409166755641762]"
      ]
     },
     "execution_count": 9,
     "metadata": {},
     "output_type": "execute_result"
    }
   ],
   "source": [
    "ratio"
   ]
  },
  {
   "cell_type": "code",
   "execution_count": 10,
   "metadata": {
    "collapsed": false
   },
   "outputs": [
    {
     "data": {
      "text/plain": [
       "[20190506,\n",
       " 20190507,\n",
       " 20190508,\n",
       " 20190509,\n",
       " 20190510,\n",
       " 20190513,\n",
       " 20190514,\n",
       " 20190515,\n",
       " 20190516,\n",
       " 20190517,\n",
       " 20190520,\n",
       " 20190521,\n",
       " 20190522,\n",
       " 20190523,\n",
       " 20190524,\n",
       " 20190528,\n",
       " 20190529,\n",
       " 20190530,\n",
       " 20190531,\n",
       " 20190603,\n",
       " 20190604,\n",
       " 20190605,\n",
       " 20190606,\n",
       " 20190607]"
      ]
     },
     "execution_count": 10,
     "metadata": {},
     "output_type": "execute_result"
    }
   ],
   "source": [
    "date"
   ]
  },
  {
   "cell_type": "code",
   "execution_count": null,
   "metadata": {
    "collapsed": true
   },
   "outputs": [],
   "source": []
  }
 ],
 "metadata": {
  "kernelspec": {
   "display_name": "Python 3",
   "language": "python",
   "name": "python3"
  },
  "language_info": {
   "codemirror_mode": {
    "name": "ipython",
    "version": 3
   },
   "file_extension": ".py",
   "mimetype": "text/x-python",
   "name": "python",
   "nbconvert_exporter": "python",
   "pygments_lexer": "ipython3",
   "version": "3.5.5"
  }
 },
 "nbformat": 4,
 "nbformat_minor": 2
}
